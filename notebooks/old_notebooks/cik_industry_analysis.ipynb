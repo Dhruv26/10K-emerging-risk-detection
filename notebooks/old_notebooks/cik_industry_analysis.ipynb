{
 "cells": [
  {
   "cell_type": "code",
   "execution_count": 2,
   "metadata": {},
   "outputs": [],
   "source": [
    "import os\n",
    "from pkg_resources import resource_stream\n",
    "import pandas as pd"
   ]
  },
  {
   "cell_type": "code",
   "execution_count": 3,
   "metadata": {},
   "outputs": [],
   "source": [
    "df = pd.read_csv(resource_stream(\n",
    "        'preprocessing', os.path.join('resources', 'cik_industry.csv')\n",
    "    ))"
   ]
  },
  {
   "cell_type": "code",
   "execution_count": 4,
   "metadata": {},
   "outputs": [
    {
     "data": {
      "text/html": [
       "<div>\n",
       "<style scoped>\n",
       "    .dataframe tbody tr th:only-of-type {\n",
       "        vertical-align: middle;\n",
       "    }\n",
       "\n",
       "    .dataframe tbody tr th {\n",
       "        vertical-align: top;\n",
       "    }\n",
       "\n",
       "    .dataframe thead th {\n",
       "        text-align: right;\n",
       "    }\n",
       "</style>\n",
       "<table border=\"1\" class=\"dataframe\">\n",
       "  <thead>\n",
       "    <tr style=\"text-align: right;\">\n",
       "      <th></th>\n",
       "      <th>cik</th>\n",
       "      <th>sic</th>\n",
       "      <th>sic1</th>\n",
       "      <th>sic2</th>\n",
       "      <th>sic3</th>\n",
       "    </tr>\n",
       "  </thead>\n",
       "  <tbody>\n",
       "    <tr>\n",
       "      <th>0</th>\n",
       "      <td>20</td>\n",
       "      <td>3823</td>\n",
       "      <td>3</td>\n",
       "      <td>38</td>\n",
       "      <td>382</td>\n",
       "    </tr>\n",
       "    <tr>\n",
       "      <th>1</th>\n",
       "      <td>1750</td>\n",
       "      <td>5080</td>\n",
       "      <td>5</td>\n",
       "      <td>50</td>\n",
       "      <td>508</td>\n",
       "    </tr>\n",
       "    <tr>\n",
       "      <th>2</th>\n",
       "      <td>1761</td>\n",
       "      <td>2670</td>\n",
       "      <td>2</td>\n",
       "      <td>26</td>\n",
       "      <td>267</td>\n",
       "    </tr>\n",
       "    <tr>\n",
       "      <th>3</th>\n",
       "      <td>1800</td>\n",
       "      <td>2834</td>\n",
       "      <td>2</td>\n",
       "      <td>28</td>\n",
       "      <td>283</td>\n",
       "    </tr>\n",
       "    <tr>\n",
       "      <th>4</th>\n",
       "      <td>1923</td>\n",
       "      <td>8700</td>\n",
       "      <td>8</td>\n",
       "      <td>87</td>\n",
       "      <td>870</td>\n",
       "    </tr>\n",
       "    <tr>\n",
       "      <th>...</th>\n",
       "      <td>...</td>\n",
       "      <td>...</td>\n",
       "      <td>...</td>\n",
       "      <td>...</td>\n",
       "      <td>...</td>\n",
       "    </tr>\n",
       "    <tr>\n",
       "      <th>18767</th>\n",
       "      <td>1746466</td>\n",
       "      <td>2836</td>\n",
       "      <td>2</td>\n",
       "      <td>28</td>\n",
       "      <td>283</td>\n",
       "    </tr>\n",
       "    <tr>\n",
       "      <th>18768</th>\n",
       "      <td>1747009</td>\n",
       "      <td>4922</td>\n",
       "      <td>4</td>\n",
       "      <td>49</td>\n",
       "      <td>492</td>\n",
       "    </tr>\n",
       "    <tr>\n",
       "      <th>18769</th>\n",
       "      <td>1750735</td>\n",
       "      <td>6020</td>\n",
       "      <td>6</td>\n",
       "      <td>60</td>\n",
       "      <td>602</td>\n",
       "    </tr>\n",
       "    <tr>\n",
       "      <th>18770</th>\n",
       "      <td>1758488</td>\n",
       "      <td>9995</td>\n",
       "      <td>9</td>\n",
       "      <td>99</td>\n",
       "      <td>999</td>\n",
       "    </tr>\n",
       "    <tr>\n",
       "      <th>18771</th>\n",
       "      <td>1760173</td>\n",
       "      <td>3842</td>\n",
       "      <td>3</td>\n",
       "      <td>38</td>\n",
       "      <td>384</td>\n",
       "    </tr>\n",
       "  </tbody>\n",
       "</table>\n",
       "<p>18772 rows × 5 columns</p>\n",
       "</div>"
      ],
      "text/plain": [
       "           cik   sic  sic1  sic2  sic3\n",
       "0           20  3823     3    38   382\n",
       "1         1750  5080     5    50   508\n",
       "2         1761  2670     2    26   267\n",
       "3         1800  2834     2    28   283\n",
       "4         1923  8700     8    87   870\n",
       "...        ...   ...   ...   ...   ...\n",
       "18767  1746466  2836     2    28   283\n",
       "18768  1747009  4922     4    49   492\n",
       "18769  1750735  6020     6    60   602\n",
       "18770  1758488  9995     9    99   999\n",
       "18771  1760173  3842     3    38   384\n",
       "\n",
       "[18772 rows x 5 columns]"
      ]
     },
     "execution_count": 4,
     "metadata": {},
     "output_type": "execute_result"
    }
   ],
   "source": [
    "df"
   ]
  },
  {
   "cell_type": "code",
   "execution_count": 7,
   "metadata": {},
   "outputs": [],
   "source": [
    "def get_industry_groups(cik_industry):\n",
    "    sic_group = cik_industry[['cik', 'sic']].groupby('sic')\n",
    "    sic_1_group = cik_industry[['cik', 'sic1']].groupby('sic1')\n",
    "    sic_2_group = cik_industry[['cik', 'sic2']].groupby('sic2')\n",
    "    sic_3_group = cik_industry[['cik', 'sic3']].groupby('sic3')\n",
    "    return sic_group, sic_1_group, sic_2_group, sic_3_group"
   ]
  },
  {
   "cell_type": "code",
   "execution_count": 8,
   "metadata": {},
   "outputs": [],
   "source": [
    "sic, sic_1, sic_2, sic_3 = get_industry_groups(df)"
   ]
  },
  {
   "cell_type": "code",
   "execution_count": 13,
   "metadata": {},
   "outputs": [
    {
     "data": {
      "text/plain": [
       "array([[<AxesSubplot:title={'center':'cik'}>]], dtype=object)"
      ]
     },
     "execution_count": 13,
     "metadata": {},
     "output_type": "execute_result"
    },
    {
     "data": {
      "image/png": "[encoded data removed]",
      "text/plain": [
       "<Figure size 432x288 with 1 Axes>"
      ]
     },
     "metadata": {
      "needs_background": "light"
     },
     "output_type": "display_data"
    }
   ],
   "source": [
    "sic.count().hist()"
   ]
  },
  {
   "cell_type": "code",
   "execution_count": 16,
   "metadata": {},
   "outputs": [
    {
     "data": {
      "text/plain": [
       "array([[<AxesSubplot:title={'center':'cik'}>]], dtype=object)"
      ]
     },
     "execution_count": 16,
     "metadata": {},
     "output_type": "execute_result"
    },
    {
     "data": {
      "image/png": "[encoded data removed]",
      "text/plain": [
       "<Figure size 432x288 with 1 Axes>"
      ]
     },
     "metadata": {
      "needs_background": "light"
     },
     "output_type": "display_data"
    }
   ],
   "source": [
    "sic_1.count().hist()"
   ]
  },
  {
   "cell_type": "code",
   "execution_count": 30,
   "metadata": {},
   "outputs": [],
   "source": [
    "di = dict(list(sic_2))"
   ]
  },
  {
   "cell_type": "code",
   "execution_count": 33,
   "metadata": {
    "collapsed": true,
    "jupyter": {
     "outputs_hidden": true
    }
   },
   "outputs": [
    {
     "data": {
      "text/plain": [
       "{1: 36,\n",
       " 2: 8,\n",
       " 7: 6,\n",
       " 8: 4,\n",
       " 9: 1,\n",
       " 10: 270,\n",
       " 12: 35,\n",
       " 13: 620,\n",
       " 14: 40,\n",
       " 15: 87,\n",
       " 16: 56,\n",
       " 17: 47,\n",
       " 20: 286,\n",
       " 21: 16,\n",
       " 22: 61,\n",
       " 23: 124,\n",
       " 24: 67,\n",
       " 25: 62,\n",
       " 26: 118,\n",
       " 27: 156,\n",
       " 28: 1552,\n",
       " 29: 83,\n",
       " 30: 139,\n",
       " 31: 29,\n",
       " 32: 74,\n",
       " 33: 177,\n",
       " 34: 159,\n",
       " 35: 798,\n",
       " 36: 1031,\n",
       " 37: 270,\n",
       " 38: 884,\n",
       " 39: 146,\n",
       " 40: 25,\n",
       " 41: 14,\n",
       " 42: 88,\n",
       " 44: 112,\n",
       " 45: 88,\n",
       " 46: 25,\n",
       " 47: 56,\n",
       " 48: 613,\n",
       " 49: 452,\n",
       " 50: 337,\n",
       " 51: 214,\n",
       " 52: 33,\n",
       " 53: 72,\n",
       " 54: 81,\n",
       " 55: 56,\n",
       " 56: 99,\n",
       " 57: 70,\n",
       " 58: 218,\n",
       " 59: 306,\n",
       " 60: 1780,\n",
       " 61: 231,\n",
       " 62: 218,\n",
       " 63: 422,\n",
       " 64: 78,\n",
       " 65: 182,\n",
       " 67: 1749,\n",
       " 70: 81,\n",
       " 72: 33,\n",
       " 73: 2260,\n",
       " 75: 31,\n",
       " 76: 10,\n",
       " 78: 121,\n",
       " 79: 163,\n",
       " 80: 334,\n",
       " 81: 3,\n",
       " 82: 77,\n",
       " 83: 27,\n",
       " 86: 1,\n",
       " 87: 271,\n",
       " 99: 299}"
      ]
     },
     "execution_count": 33,
     "metadata": {},
     "output_type": "execute_result"
    }
   ],
   "source": [
    "{k: len(v.index) for k, v in di.items()}"
   ]
  },
  {
   "cell_type": "code",
   "execution_count": null,
   "metadata": {},
   "outputs": [
    {
     "name": "stdout",
     "output_type": "stream",
     "text": [
      "> \u001b[1;32m<ipython-input-36-13ca0cf6e8cd>\u001b[0m(1)\u001b[0;36m<module>\u001b[1;34m()\u001b[0m\n",
      "\u001b[1;32m----> 1 \u001b[1;33m\u001b[1;32mfor\u001b[0m \u001b[0mk\u001b[0m\u001b[1;33m,\u001b[0m \u001b[0mv\u001b[0m \u001b[1;32min\u001b[0m \u001b[0msic_2\u001b[0m\u001b[1;33m:\u001b[0m\u001b[1;33m\u001b[0m\u001b[1;33m\u001b[0m\u001b[0m\n",
      "\u001b[0m\u001b[1;32m      2 \u001b[1;33m    \u001b[1;32mimport\u001b[0m \u001b[0mpdb\u001b[0m\u001b[1;33m;\u001b[0m \u001b[0mpdb\u001b[0m\u001b[1;33m.\u001b[0m\u001b[0mset_trace\u001b[0m\u001b[1;33m(\u001b[0m\u001b[1;33m)\u001b[0m\u001b[1;33m\u001b[0m\u001b[1;33m\u001b[0m\u001b[0m\n",
      "\u001b[0m\n"
     ]
    },
    {
     "name": "stdin",
     "output_type": "stream",
     "text": [
      "ipdb>  k\n"
     ]
    },
    {
     "name": "stdout",
     "output_type": "stream",
     "text": [
      "1\n"
     ]
    },
    {
     "name": "stdin",
     "output_type": "stream",
     "text": [
      "ipdb>  v\n"
     ]
    },
    {
     "name": "stdout",
     "output_type": "stream",
     "text": [
      "           cik  sic2\n",
      "42        3545     1\n",
      "297      18169     1\n",
      "1426     78716     1\n",
      "1566     86519     1\n",
      "1753     96869     1\n",
      "1843    101063     1\n",
      "3006    715374     1\n",
      "3445    730985     1\n",
      "3568    740055     1\n",
      "4022    767884     1\n",
      "4502    792161     1\n",
      "5025    808493     1\n",
      "5237    813742     1\n",
      "5380    818010     1\n",
      "5605    824103     1\n",
      "5896    835015     1\n",
      "6105    842888     1\n",
      "6703    861291     1\n",
      "7558    882259     1\n",
      "7980    889329     1\n",
      "8574    902277     1\n",
      "9327    917333     1\n",
      "9999    932145     1\n",
      "10749  1003515     1\n",
      "11051  1011134     1\n",
      "12077  1039213     1\n",
      "12288  1044865     1\n",
      "12394  1047340     1\n",
      "13199  1078259     1\n",
      "13969  1110783     1\n",
      "15846  1342423     1\n",
      "16584  1413257     1\n",
      "17007  1477246     1\n",
      "17199  1499506     1\n",
      "17213  1499849     1\n",
      "18579  1701261     1\n"
     ]
    },
    {
     "name": "stdin",
     "output_type": "stream",
     "text": [
      "ipdb>  v['cik'].values\n"
     ]
    },
    {
     "name": "stdout",
     "output_type": "stream",
     "text": [
      "array([   3545,   18169,   78716,   86519,   96869,  101063,  715374,\n",
      "        730985,  740055,  767884,  792161,  808493,  813742,  818010,\n",
      "        824103,  835015,  842888,  861291,  882259,  889329,  902277,\n",
      "        917333,  932145, 1003515, 1011134, 1039213, 1044865, 1047340,\n",
      "       1078259, 1110783, 1342423, 1413257, 1477246, 1499506, 1499849,\n",
      "       1701261], dtype=int64)\n"
     ]
    }
   ],
   "source": [
    "for k, v in sic_2:\n",
    "    import pdb; pdb.set_trace()"
   ]
  },
  {
   "cell_type": "code",
   "execution_count": null,
   "metadata": {},
   "outputs": [],
   "source": []
  },
  {
   "cell_type": "code",
   "execution_count": null,
   "metadata": {},
   "outputs": [],
   "source": []
  }
 ],
 "metadata": {
  "kernelspec": {
   "display_name": "Python 3",
   "language": "python",
   "name": "python3"
  },
  "language_info": {
   "codemirror_mode": {
    "name": "ipython",
    "version": 3
   },
   "file_extension": ".py",
   "mimetype": "text/x-python",
   "name": "python",
   "nbconvert_exporter": "python",
   "pygments_lexer": "ipython3",
   "version": "3.8.6"
  }
 },
 "nbformat": 4,
 "nbformat_minor": 4
}
