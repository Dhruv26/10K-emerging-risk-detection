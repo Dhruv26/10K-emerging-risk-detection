{
 "cells": [
  {
   "cell_type": "code",
   "execution_count": 23,
   "metadata": {},
   "outputs": [],
   "source": [
    "import os\n",
    "import glob\n",
    "from tqdm import tqdm\n",
    "from config import Config\n",
    "from nltk.tokenize import word_tokenize\n",
    "from sentence_transformers import SentenceTransformer\n",
    "from bertopic import BERTopic"
   ]
  },
  {
   "cell_type": "code",
   "execution_count": 2,
   "metadata": {},
   "outputs": [
    {
     "name": "stderr",
     "output_type": "stream",
     "text": [
      "100%|█████████████████████████████████████████████████████████████████████████████████████████████████████████████████████████████████████████████████| 3096/3096 [02:35<00:00, 19.96it/s]\n"
     ]
    }
   ],
   "source": [
    "corpus = []\n",
    "risk_file_names = glob.glob(os.path.join(Config.risk_dir(), '10k20f_5', '*.txt'))\n",
    "for risk_file_name in tqdm(risk_file_names):\n",
    "    with open(risk_file_name, 'r', encoding='utf-8') as risk_file:\n",
    "        #import pdb; pdb.set_trace()\n",
    "        docu = risk_file.read()\n",
    "        if len(word_tokenize(docu)) > 100:\n",
    "            corpus.append(docu)"
   ]
  },
  {
   "cell_type": "code",
   "execution_count": 3,
   "metadata": {},
   "outputs": [
    {
     "name": "stderr",
     "output_type": "stream",
     "text": [
      "Exception when trying to download https://sbert.net/models/ipuneetrathore/bert-base-cased-finetuned-finBERT.zip. Response 404\n",
      "WARNING:root:SentenceTransformer-Model https://sbert.net/models/ipuneetrathore/bert-base-cased-finetuned-finBERT.zip not found. Try to create it from scratch\n",
      "WARNING:root:Try to create Transformer Model ipuneetrathore/bert-base-cased-finetuned-finBERT with mean pooling\n"
     ]
    }
   ],
   "source": [
    "sent_model = SentenceTransformer('ipuneetrathore/bert-base-cased-finetuned-finBERT')"
   ]
  },
  {
   "cell_type": "code",
   "execution_count": 4,
   "metadata": {},
   "outputs": [
    {
     "data": {
      "application/vnd.jupyter.widget-view+json": {
       "model_id": "d688b046decd4c7e9371da6101a3fe3a",
       "version_major": 2,
       "version_minor": 0
      },
      "text/plain": [
       "HBox(children=(HTML(value='Batches'), FloatProgress(value=0.0, max=62.0), HTML(value='')))"
      ]
     },
     "metadata": {},
     "output_type": "display_data"
    },
    {
     "name": "stdout",
     "output_type": "stream",
     "text": [
      "\n"
     ]
    }
   ],
   "source": [
    "embeddings = sent_model.encode(corpus, show_progress_bar=True)"
   ]
  },
  {
   "cell_type": "code",
   "execution_count": 24,
   "metadata": {},
   "outputs": [],
   "source": [
    "topic_model = BERTopic(verbose=True, n_gram_range=(1, 3), stop_words='english')"
   ]
  },
  {
   "cell_type": "code",
   "execution_count": 25,
   "metadata": {},
   "outputs": [
    {
     "name": "stderr",
     "output_type": "stream",
     "text": [
      "2020-12-14 12:54:08,531 - BERTopic - Reduced dimensionality with UMAP\n",
      "INFO:BERTopic:Reduced dimensionality with UMAP\n",
      "2020-12-14 12:54:08,938 - BERTopic - Clustered UMAP embeddings with HDBSCAN\n",
      "INFO:BERTopic:Clustered UMAP embeddings with HDBSCAN\n"
     ]
    }
   ],
   "source": [
    "topics, probabilities = topic_model.fit_transform(corpus, embeddings)"
   ]
  },
  {
   "cell_type": "code",
   "execution_count": 26,
   "metadata": {},
   "outputs": [
    {
     "data": {
      "image/png": "[encoded data removed]",
      "text/plain": [
       "<Figure size 720x360 with 1 Axes>"
      ]
     },
     "metadata": {
      "needs_background": "light"
     },
     "output_type": "display_data"
    }
   ],
   "source": [
    "topic_model.visualize_distribution(probabilities[0])"
   ]
  },
  {
   "cell_type": "code",
   "execution_count": 27,
   "metadata": {},
   "outputs": [
    {
     "data": {
      "text/plain": [
       "{-1: [('outdoor', 0.0022363643064706794),\n",
       "  ('displays', 0.002051979075035623),\n",
       "  ('iheartcommunications', 0.0019381790085659433),\n",
       "  ('outdoor advertising', 0.001730309837011969),\n",
       "  ('cato', 0.0015005766473687645),\n",
       "  ('tms', 0.0014860059346828499),\n",
       "  ('billboards', 0.0014197172779474893),\n",
       "  ('layaway', 0.0013598616287695293),\n",
       "  ('radio', 0.001342578966459942),\n",
       "  ('street furniture', 0.0012834475112623385),\n",
       "  ('feed ingredients', 0.00124604992469524),\n",
       "  ('stations', 0.0011555996534861964),\n",
       "  ('furniture', 0.0011480337018886892),\n",
       "  ('feed', 0.0011346984690773216),\n",
       "  ('companyâ', 0.001071417046177949),\n",
       "  ('companyâ tms', 0.001071417046177949),\n",
       "  ('iheartradio', 0.0010355256059467375),\n",
       "  ('transit', 0.001030979747365687),\n",
       "  ('international outdoor', 0.0010237985107922622),\n",
       "  ('americas', 0.000978708494010038)],\n",
       " 0: [('hiland', 0.00032624185931464067),\n",
       "  ('hiland partners', 0.00032610814064998117),\n",
       "  ('pollo', 0.0002901485196391369),\n",
       "  ('pollo tropical', 0.0002869837142691526),\n",
       "  ('cabana', 0.0002867125938341195),\n",
       "  ('taco', 0.0002783376781332779),\n",
       "  ('gasification', 0.00027773753025561374),\n",
       "  ('taco cabana', 0.00027710241226832337),\n",
       "  ('pizza', 0.000273855034493562),\n",
       "  ('tropical', 0.00027165278411218105),\n",
       "  ('fox', 0.00025957041501479687),\n",
       "  ('fox chase', 0.00025151959442586917),\n",
       "  ('hut', 0.0002495350376753976),\n",
       "  ('pizza hut', 0.00024699621038049523),\n",
       "  ('brunswick', 0.00023504252751185286),\n",
       "  ('wendy', 0.00023345018470328458),\n",
       "  ('boat', 0.00023070942436953824),\n",
       "  ('zz', 0.00022999866407581187),\n",
       "  ('yima', 0.00021976743635399254),\n",
       "  ('phi', 0.00021960408399221586)],\n",
       " 1: [('amtrust', 2.2640102861796287e-05),\n",
       "  ('clo', 2.2628823104376637e-05),\n",
       "  ('container', 2.2596263646672495e-05),\n",
       "  ('gses', 2.2552861226050118e-05),\n",
       "  ('gc advisors', 2.2532371196201222e-05),\n",
       "  ('videocon', 2.252838612051054e-05),\n",
       "  ('potash', 2.251840759215942e-05),\n",
       "  ('satellites', 2.251370945712574e-05),\n",
       "  ('maiden bermuda', 2.2489642867926283e-05),\n",
       "  ('servicers', 2.248717522940035e-05),\n",
       "  ('instrument', 2.248307914648306e-05),\n",
       "  ('real estate assets', 2.24723502522622e-05),\n",
       "  ('development company', 2.246758209209358e-05),\n",
       "  ('estate assets', 2.2465575586668513e-05),\n",
       "  ('distribution stockholders', 2.246417427567794e-05),\n",
       "  ('fail qualify', 2.245248278152136e-05),\n",
       "  ('washingtonfirst', 2.2449229775063568e-05),\n",
       "  ('certain investments', 2.2448137246048486e-05),\n",
       "  ('business development company', 2.244668843570414e-05),\n",
       "  ('qualification reit', 2.2441270000091662e-05)]}"
      ]
     },
     "execution_count": 27,
     "metadata": {},
     "output_type": "execute_result"
    }
   ],
   "source": [
    "topic_model.get_topics()"
   ]
  },
  {
   "cell_type": "code",
   "execution_count": null,
   "metadata": {},
   "outputs": [],
   "source": []
  }
 ],
 "metadata": {
  "kernelspec": {
   "display_name": "Python 3",
   "language": "python",
   "name": "python3"
  },
  "language_info": {
   "codemirror_mode": {
    "name": "ipython",
    "version": 3
   },
   "file_extension": ".py",
   "mimetype": "text/x-python",
   "name": "python",
   "nbconvert_exporter": "python",
   "pygments_lexer": "ipython3",
   "version": "3.8.6"
  }
 },
 "nbformat": 4,
 "nbformat_minor": 4
}
