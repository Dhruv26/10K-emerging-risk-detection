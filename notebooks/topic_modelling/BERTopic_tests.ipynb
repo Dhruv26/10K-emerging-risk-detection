{
 "cells": [
  {
   "cell_type": "code",
   "execution_count": 1,
   "metadata": {},
   "outputs": [],
   "source": [
    "import os\n",
    "import glob\n",
    "from tqdm import tqdm\n",
    "from config import Config\n",
    "from nltk.tokenize import word_tokenize\n",
    "from sentence_transformers import SentenceTransformer\n",
    "from bertopic import BERTopic"
   ]
  },
  {
   "cell_type": "code",
   "execution_count": 2,
   "metadata": {},
   "outputs": [],
   "source": [
    "risk_file_names = glob.glob(os.path.join(Config.risk_dir(), '10k20f_5', '*.txt'))"
   ]
  },
  {
   "cell_type": "code",
   "execution_count": 3,
   "metadata": {},
   "outputs": [
    {
     "name": "stderr",
     "output_type": "stream",
     "text": [
      "100%|█████████████████████████████████████████████████████████████████████████████████████████████████████████████████████████████████████████████████| 3096/3096 [01:50<00:00, 27.99it/s]\n"
     ]
    }
   ],
   "source": [
    "corpus = []\n",
    "\n",
    "for risk_file_name in tqdm(risk_file_names):\n",
    "    with open(risk_file_name, 'r', encoding='utf-8') as risk_file:\n",
    "        docu = risk_file.read()\n",
    "    if len(word_tokenize(docu)) > 100:\n",
    "        corpus.append(docu)"
   ]
  },
  {
   "cell_type": "code",
   "execution_count": 3,
   "metadata": {},
   "outputs": [],
   "source": [
    "sent_model = SentenceTransformer()#'ipuneetrathore/bert-base-cased-finetuned-finBERT')"
   ]
  },
  {
   "cell_type": "code",
   "execution_count": 4,
   "metadata": {},
   "outputs": [
    {
     "data": {
      "application/vnd.jupyter.widget-view+json": {
       "model_id": "d688b046decd4c7e9371da6101a3fe3a",
       "version_major": 2,
       "version_minor": 0
      },
      "text/plain": [
       "HBox(children=(HTML(value='Batches'), FloatProgress(value=0.0, max=62.0), HTML(value='')))"
      ]
     },
     "metadata": {},
     "output_type": "display_data"
    },
    {
     "name": "stdout",
     "output_type": "stream",
     "text": [
      "\n"
     ]
    }
   ],
   "source": [
    "embeddings = sent_model.encode(corpus, show_progress_bar=True)"
   ]
  },
  {
   "cell_type": "code",
   "execution_count": 4,
   "metadata": {},
   "outputs": [],
   "source": [
    "topic_model = BERTopic(verbose=True, n_gram_range=(1, 3), stop_words='english', nr_topics=20)"
   ]
  },
  {
   "cell_type": "code",
   "execution_count": 5,
   "metadata": {},
   "outputs": [
    {
     "name": "stderr",
     "output_type": "stream",
     "text": [
      "2021-02-10 22:48:06,677 - BERTopic - Loaded embedding model\n",
      "2021-02-10 23:06:35,411 - BERTopic - Transformed documents to Embeddings\n",
      "2021-02-10 23:06:49,315 - BERTopic - Reduced dimensionality with UMAP\n",
      "2021-02-10 23:06:49,887 - BERTopic - Clustered UMAP embeddings with HDBSCAN\n",
      "2021-02-10 23:09:00,444 - BERTopic - Loaded embedding model\n",
      "2021-02-10 23:09:03,612 - BERTopic - Transformed documents to Embeddings\n",
      "2021-02-10 23:10:46,181 - BERTopic - Loaded embedding model\n",
      "2021-02-10 23:10:47,076 - BERTopic - Transformed documents to Embeddings\n",
      "2021-02-10 23:10:47,276 - BERTopic - Reduced number of topics from 62 to 21\n"
     ]
    }
   ],
   "source": [
    "topics, probabilities = topic_model.fit_transform(corpus)#, embeddings)"
   ]
  },
  {
   "cell_type": "code",
   "execution_count": 9,
   "metadata": {},
   "outputs": [],
   "source": [
    "topic_model.save('bert_topic_model')"
   ]
  },
  {
   "cell_type": "code",
   "execution_count": 7,
   "metadata": {},
   "outputs": [
    {
     "data": {
      "text/plain": [
       "{-1: [('gc advisors', 7.022102306810349e-05),\n",
       "  ('videocon', 6.917960030276963e-05),\n",
       "  ('tyco international', 6.541828418748496e-05),\n",
       "  ('abbotts', 6.492650775773458e-05),\n",
       "  ('tyco electronics', 6.374105043324379e-05),\n",
       "  ('abbott', 5.964092685990988e-05),\n",
       "  ('videocon d2h', 5.680958373077995e-05),\n",
       "  ('molycorp', 5.665187076832378e-05),\n",
       "  ('dme advisors', 5.57623716772397e-05),\n",
       "  ('consolidated combined financial', 5.545136043603599e-05)],\n",
       " 0: [('taco', 0.0005055915362099871),\n",
       "  ('taco cabana', 0.0004983675950768043),\n",
       "  ('cabana restaurants', 0.0003521278575476477),\n",
       "  ('taco cabana restaurants', 0.0003354178309246266),\n",
       "  ('tropical taco', 0.000326035106585894),\n",
       "  ('tropical taco cabana', 0.00032467169565971544),\n",
       "  ('pollo tropical taco', 0.00032192721457584484),\n",
       "  ('tropical restaurants', 0.0003121317348043986),\n",
       "  ('pollo tropical restaurants', 0.000300560274826421),\n",
       "  ('restaurant group', 0.0002806959114939765)],\n",
       " 1: [('pizza', 0.0005927747347929032),\n",
       "  ('pizza hut', 0.0005305345935324592),\n",
       "  ('fox chase', 0.0005246130859742286),\n",
       "  ('fox', 0.0004918498600580141),\n",
       "  ('wendys', 0.0004905886714778532),\n",
       "  ('syngas', 0.00045001029700309143),\n",
       "  ('zz joint', 0.0004470004691833201),\n",
       "  ('zz joint venture', 0.000440448959666913),\n",
       "  ('anthrax', 0.0003548786335536605),\n",
       "  ('vaccines', 0.0003407615694872045)],\n",
       " 8: [('total loans', 0.000955194265936549),\n",
       "  ('fourfamily residential', 0.0009300024915443123),\n",
       "  ('commercial agricultural', 0.0007651210841009275),\n",
       "  ('total loans december', 0.0007452682191600609),\n",
       "  ('fourfamily residential mortgage', 0.0007441957707653252),\n",
       "  ('agricultural real', 0.0007091237453683324),\n",
       "  ('agricultural real estate', 0.0006985384138294685),\n",
       "  ('loan losses sufficient', 0.0006787849576148695),\n",
       "  ('loans commercial', 0.0006585654983391368),\n",
       "  ('commercial business loans', 0.0006467896654666692)],\n",
       " 11: [('lime rock', 0.0004158961712624679),\n",
       "  ('lime', 0.0004060121604401067),\n",
       "  ('frac sand', 0.0003776092109213312),\n",
       "  ('sand', 0.00037131520400163985),\n",
       "  ('soda ash', 0.0003663836131225535),\n",
       "  ('rock', 0.00027413638026659997),\n",
       "  ('unitholdersour', 0.0002655488405641494),\n",
       "  ('rock resources', 0.0002521190130907071),\n",
       "  ('distributions unitholders', 0.00024648288039366917),\n",
       "  ('lime rock management', 0.00024339527298586038)],\n",
       " 13: [('complete initial business', 0.0007826583177739451),\n",
       "  ('berggruen', 0.0007821777438102978),\n",
       "  ('complete business', 0.0006816047614628243),\n",
       "  ('complete business combination', 0.0006620754566826886),\n",
       "  ('consummate initial business', 0.0005877523535571678),\n",
       "  ('blank check companies', 0.0005809209905514523),\n",
       "  ('business combination target', 0.0005170240011495645),\n",
       "  ('mr berggruen', 0.0005060025019506293),\n",
       "  ('consummate business combination', 0.0004952613629468063),\n",
       "  ('consummation business', 0.000495166258424497)],\n",
       " 17: [('sears', 0.001029818144544644),\n",
       "  ('sears holdings', 0.0009768405916520788),\n",
       "  ('ethanol', 0.0008083013441396711),\n",
       "  ('phillips 66', 0.000551744602539402),\n",
       "  ('coke', 0.000487045250811472),\n",
       "  ('66s', 0.0004575960971192843),\n",
       "  ('murphy oil', 0.00045004156321876707),\n",
       "  ('gasoline', 0.00044318160131078823),\n",
       "  ('phillips 66s', 0.0004423982767357414),\n",
       "  ('walmart', 0.00033841845450703704)],\n",
       " 21: [('zais managed', 0.0005761110845966332),\n",
       "  ('zais', 0.0005517173266845433),\n",
       "  ('zais groups', 0.0005405548396097956),\n",
       "  ('zais group', 0.0005349945284285234),\n",
       "  ('zais managed entities', 0.000512470497539199),\n",
       "  ('biothrax', 0.00034782576173783417),\n",
       "  ('tnx102', 0.00032511526456605483),\n",
       "  ('tnx102 sl', 0.0003010833203034799),\n",
       "  ('zgp', 0.00023684220258806323),\n",
       "  ('lansing', 0.00023210014137359897)],\n",
       " 22: [('ashford', 0.00047180253154348415),\n",
       "  ('futures contracts', 0.00038375717189979445),\n",
       "  ('ashford trust', 0.0002795126950231163),\n",
       "  ('operating partnership units', 0.00026728849153582183),\n",
       "  ('ashford llc', 0.0002623242336008983),\n",
       "  ('lodging', 0.00025780643032861917),\n",
       "  ('hotels', 0.0002502551621947135),\n",
       "  ('common stock traded', 0.00024036361712108536),\n",
       "  ('traded op units', 0.00023755949730273928),\n",
       "  ('llc preferred shares', 0.00023483800097024083)],\n",
       " 23: [('atx101', 0.0005918395489468044),\n",
       "  ('tavaborole', 0.00032105567214722925),\n",
       "  ('solar modules', 0.00031854739445214594),\n",
       "  ('atx101 future', 0.00031531303814387647),\n",
       "  ('solar energy', 0.00030526060156135603),\n",
       "  ('atx101 future product', 0.0002928402537165048),\n",
       "  ('solar module', 0.0002808315214584941),\n",
       "  ('product development candidates', 0.0002737042172570887),\n",
       "  ('module manufacturers', 0.00023494894953755518),\n",
       "  ('ucp llc', 0.00020677550331827535)],\n",
       " 25: [('retail distributors', 0.00043193075140635865),\n",
       "  ('server', 0.0003209398681047988),\n",
       "  ('server solutions', 0.00031593883697327203),\n",
       "  ('zecuity', 0.00028540780792107287),\n",
       "  ('prepaid financial', 0.00025236351332400567),\n",
       "  ('prepaid financial services', 0.00023906701753891596),\n",
       "  ('sterling investment', 0.0002253034327212612),\n",
       "  ('sterling investment partners', 0.0002253034327212612),\n",
       "  ('energy efficiency renewable', 0.00022062114417618358),\n",
       "  ('efficiency renewable energy', 0.00021348497835712424)],\n",
       " 29: [('circle', 0.0006347361828675822),\n",
       "  ('asset manager affiliates', 0.0006336438605762272),\n",
       "  ('asset manager', 0.0006258160314898753),\n",
       "  ('circle advisors', 0.000579529508419239),\n",
       "  ('gsv asset management', 0.000550623101522802),\n",
       "  ('7375 notes', 0.0005365128138836733),\n",
       "  ('7375 notes 2019', 0.0004982581438803756),\n",
       "  ('asset coverage', 0.0004475577452733965),\n",
       "  ('investments portfolio', 0.00038142532641005997),\n",
       "  ('closedend investment', 0.00035529862454421657)],\n",
       " 32: [('member owners', 0.0006868281425003646),\n",
       "  ('cti', 0.0006236652574053264),\n",
       "  ('ncm llcs', 0.0004930500483865086),\n",
       "  ('ncm llc', 0.00047749716714873486),\n",
       "  ('founding members', 0.0004494237204222842),\n",
       "  ('llcs founding', 0.0004028870763773087),\n",
       "  ('ncm llcs founding', 0.0003984962826487725),\n",
       "  ('llcs founding members', 0.00038962885457366253),\n",
       "  ('endcustomers', 0.00035001931019940715),\n",
       "  ('llcs', 0.0003086405038230062)],\n",
       " 36: [('prcm', 0.0008894722730450533),\n",
       "  ('prcm advisers', 0.0008699302973255441),\n",
       "  ('pine', 0.0007654295210304601),\n",
       "  ('pine river', 0.0007340011142011029),\n",
       "  ('target assets', 0.00041820652027219334),\n",
       "  ('assets company', 0.0004024519415067896),\n",
       "  ('tbas', 0.0003885828402824218),\n",
       "  ('companys target', 0.00033469352771084654),\n",
       "  ('debt instrument', 0.00032996474930683156),\n",
       "  ('companys charter', 0.0003249669469130324)],\n",
       " 39: [('trunkbow', 0.0007079700512116955),\n",
       "  ('zinc', 0.0004791789771586815),\n",
       "  ('position business financial', 0.0003631590065333603),\n",
       "  ('competitive position business', 0.0003486577652144854),\n",
       "  ('pvc resin', 0.0003270705465635053),\n",
       "  ('trunkbow hong', 0.0003208947330486257),\n",
       "  ('trunkbow hong kong', 0.00029541908552377003),\n",
       "  ('trunkbow technologies', 0.0002821844864493022),\n",
       "  ('resin', 0.00028112673779903165),\n",
       "  ('mr moyes', 0.0002449518756199169)],\n",
       " 40: [('mc advisors', 0.0003320020272701559),\n",
       "  ('patent assets', 0.0002964766777298728),\n",
       "  ('used oil', 0.0002849864968965404),\n",
       "  ('pet', 0.0002655712567656768),\n",
       "  ('el', 0.0002084208942454361),\n",
       "  ('artisan partners holdings', 0.00020767012054368327),\n",
       "  ('partners holdings', 0.00020700897027671757),\n",
       "  ('pet therapeutics', 0.00020327029116277602),\n",
       "  ('therapeutics', 0.00018861373676874285),\n",
       "  ('cvm', 0.0001791240612283217)],\n",
       " 45: [('eggs', 0.000690244597693693),\n",
       "  ('egg', 0.0006332290611346067),\n",
       "  ('loans debt products', 0.0006191509290595335),\n",
       "  ('shell eggs', 0.0006090009138290494),\n",
       "  ('dialyzers', 0.0005438921394027315),\n",
       "  ('shell egg', 0.0005329824373794839),\n",
       "  ('loans debt', 0.000513624498081544),\n",
       "  ('loan debt product', 0.00038242651227945144),\n",
       "  ('loan debt', 0.0003614090070249661),\n",
       "  ('reuse dialyzers', 0.0003304761695710769)],\n",
       " 49: [('ellington', 0.0005257172923622792),\n",
       "  ('nonagency rmbs', 0.00027974731780314757),\n",
       "  ('hybrid arms', 0.00027696083397026907),\n",
       "  ('ellington affiliates', 0.0002633370341714021),\n",
       "  ('rcs', 0.000247758511152543),\n",
       "  ('arms hybrid arms', 0.0002377941106549692),\n",
       "  ('rcs capital', 0.00021978000951417605),\n",
       "  ('ellingtons', 0.0002154144744186452),\n",
       "  ('multifamily mbs', 0.00021368393353207016),\n",
       "  ('rcs capital management', 0.00020345991375856745)],\n",
       " 55: [('maiden bermuda', 0.0008556552555584043),\n",
       "  ('fishing', 0.0006550333240859255),\n",
       "  ('pingtan fishing', 0.0003759028375875212),\n",
       "  ('maiden holdings maiden', 0.00033822499810287106),\n",
       "  ('maiden bermudas', 0.00033731960782132424),\n",
       "  ('holdings maiden bermuda', 0.0003335273230309249),\n",
       "  ('holdings maiden', 0.00033075755554571104),\n",
       "  ('bermudas', 0.00031862643806468833),\n",
       "  ('maiden specialty', 0.0002738166555243932),\n",
       "  ('loan lease losses', 0.00026017307546374695)],\n",
       " 56: [('fx', 0.0001167900019969268),\n",
       "  ('medicare advantage', 0.00010723260132917912),\n",
       "  ('fxcm', 9.408619336685627e-05),\n",
       "  ('wagering', 9.404064565732451e-05),\n",
       "  ('asset protection', 8.685075800226806e-05),\n",
       "  ('sirius', 8.013422382562595e-05),\n",
       "  ('asset protection solutions', 8.006989849874946e-05),\n",
       "  ('referring brokers', 7.78027212785391e-05),\n",
       "  ('cdis', 7.707009221176778e-05),\n",
       "  ('fx market', 7.301242066692757e-05)],\n",
       " 59: [('managing partner', 0.00041965490513475734),\n",
       "  ('kkr group', 0.0003515979601372715),\n",
       "  ('class unitholders', 0.000325877137230201),\n",
       "  ('private equity funds', 0.000323591779906033),\n",
       "  ('fortress operating group', 0.0003012924563697666),\n",
       "  ('kkr holdings', 0.00028104476299502457),\n",
       "  ('group partnership', 0.0002741331884318196),\n",
       "  ('kkr group partnership', 0.0002741331884318196),\n",
       "  ('managing directors', 0.00026839484486969057),\n",
       "  ('investments funds', 0.0002644470861587325)]}"
      ]
     },
     "execution_count": 7,
     "metadata": {},
     "output_type": "execute_result"
    }
   ],
   "source": [
    "topic_model.get_topics()"
   ]
  },
  {
   "cell_type": "code",
   "execution_count": null,
   "metadata": {},
   "outputs": [],
   "source": []
  },
  {
   "cell_type": "code",
   "execution_count": null,
   "metadata": {},
   "outputs": [],
   "source": []
  }
 ],
 "metadata": {
  "kernelspec": {
   "display_name": "Python 3",
   "language": "python",
   "name": "python3"
  },
  "language_info": {
   "codemirror_mode": {
    "name": "ipython",
    "version": 3
   },
   "file_extension": ".py",
   "mimetype": "text/x-python",
   "name": "python",
   "nbconvert_exporter": "python",
   "pygments_lexer": "ipython3",
   "version": "3.8.6"
  }
 },
 "nbformat": 4,
 "nbformat_minor": 4
}
