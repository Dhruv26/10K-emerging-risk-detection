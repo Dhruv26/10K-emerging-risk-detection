{
 "cells": [
  {
   "cell_type": "code",
   "execution_count": 1,
   "metadata": {},
   "outputs": [],
   "source": [
    "import glob\n",
    "import os\n",
    "from tqdm import tqdm\n",
    "from pathlib import Path\n",
    "import pke\n",
    "import logging\n",
    "logging.getLogger().setLevel(logging.ERROR)\n",
    "\n",
    "from config import Config\n",
    "from risk_detection.preprocessing.report_parser import report_info_from_risk_path\n",
    "from risk_detection.analysis.keyword_extraction import Keywords"
   ]
  },
  {
   "cell_type": "code",
   "execution_count": 2,
   "metadata": {},
   "outputs": [],
   "source": [
    "path = r'C:\\machine_learning\\10K-emerging-risk-detection\\data\\risk_section\\1750\\2006-05-31_2006-07-17_0001104659-06-047248.txt'\n",
    "pt = Path(path)\n",
    "report_info = report_info_from_risk_path(pt)"
   ]
  },
  {
   "cell_type": "code",
   "execution_count": 4,
   "metadata": {},
   "outputs": [
    {
     "name": "stderr",
     "output_type": "stream",
     "text": [
      "100%|███████████████████████████████████████████████████████████████████████████████████████████████████████████████████████████████████████████████████████| 2/2 [00:34<00:00, 17.44s/it]\n"
     ]
    }
   ],
   "source": [
    "keywords = {}\n",
    "for risk_file in tqdm(glob.glob(os.path.join(Config.risk_dir(), '1800', '*.txt'))[:2]):\n",
    "    with open(risk_file, encoding='utf-8') as f:\n",
    "        doc = f.read()\n",
    "    pos = {'NOUN', 'PROPN', 'ADJ'}\n",
    "    extractor = pke.unsupervised.TextRank()\n",
    "    extractor.load_document(input=doc, language='en', normalization=None)\n",
    "    extractor.candidate_weighting(window=2,\n",
    "                                  pos=pos,\n",
    "                                  top_percent=0.50)\n",
    "    keyphrases_text_rank = extractor.get_n_best(n=100)\n",
    "    report_info = report_info_from_risk_path(Path(risk_file))\n",
    "    keywords[risk_file] = Keywords([key for key, _ in keyphrases_text_rank], report_info)"
   ]
  },
  {
   "cell_type": "code",
   "execution_count": 5,
   "metadata": {},
   "outputs": [],
   "source": [
    "keys = keywords['c:\\\\machine_learning\\\\10k-emerging-risk-detection\\\\data\\\\risk_section\\\\1800\\\\2005-12-31_2006-02-22_0001047469-06-002258.txt']\n",
    "next_keys = keywords['c:\\\\machine_learning\\\\10k-emerging-risk-detection\\\\data\\\\risk_section\\\\1800\\\\2006-12-31_2007-02-23_0001104659-07-013496.txt']"
   ]
  },
  {
   "cell_type": "code",
   "execution_count": 8,
   "metadata": {},
   "outputs": [
    {
     "data": {
      "text/plain": [
       "defaultdict(list,\n",
       "            {2: ['other regulatory requirements',\n",
       "              'other regulatory authorities',\n",
       "              'other future events',\n",
       "              'many other factors',\n",
       "              'other factors',\n",
       "              'numerous other',\n",
       "              'other problems',\n",
       "              'other',\n",
       "              'adverse litigation decisions',\n",
       "              'adverse event reports',\n",
       "              'numerous governmental regulations',\n",
       "              'material adverse effect',\n",
       "              'additional risks',\n",
       "              'additional indications',\n",
       "              'certain factors'],\n",
       "             6: ['other intellectual property protection',\n",
       "              'other intellectual property infringement',\n",
       "              'intellectual property infringement claim',\n",
       "              'intellectual property rights',\n",
       "              'intellectual property'],\n",
       "             18: ['foreign regulatory requirements',\n",
       "              'foreign medical reimbursement policies',\n",
       "              'foreign currency',\n",
       "              'foreign'],\n",
       "             5: ['future pre - market',\n",
       "              'future products',\n",
       "              'future terrorist activity',\n",
       "              'future revenues',\n",
       "              'future'],\n",
       "             16: ['new product', 'new products', 'new indications', 'new'],\n",
       "             8: ['product liability costs',\n",
       "              'product liability claims',\n",
       "              'product requirements',\n",
       "              'product preferences',\n",
       "              'product revenues',\n",
       "              'product',\n",
       "              'products'],\n",
       "             1: ['other businesses',\n",
       "              'additional business risks',\n",
       "              'business practices',\n",
       "              'related military action',\n",
       "              'buyer purchasing decisions',\n",
       "              'business'],\n",
       "             7: ['health care products',\n",
       "              'health care',\n",
       "              'greater patient access',\n",
       "              'positive clinical outcomes'],\n",
       "             3: ['state health care programs',\n",
       "              '- party reimbursement',\n",
       "              'substantial undiversified equity investment',\n",
       "              'benefit program reimbursement',\n",
       "              'state laws',\n",
       "              'benefit programs',\n",
       "              'medicaid rebate statute',\n",
       "              'general unsecured creditor',\n",
       "              'tax laws'],\n",
       "             10: ['regulatory requirements',\n",
       "              'regulatory violations',\n",
       "              'regulatory authorities',\n",
       "              'regulatory'],\n",
       "             11: ['cost - effective basis',\n",
       "              'cost - containment efforts',\n",
       "              'cost containment efforts'],\n",
       "             14: ['abbott product', 'abbott products'],\n",
       "             19: ['substantial additional costs',\n",
       "              'substantial costs',\n",
       "              'significant investment'],\n",
       "             13: ['problems manufacturing products',\n",
       "              'significant manufacturing problems',\n",
       "              'manufacturing quality concerns',\n",
       "              'manufacturing practices'],\n",
       "             12: ['veterans administration health programs',\n",
       "              'veterans health care'],\n",
       "             15: ['new safety', 'significant safety', 'safety alerts'],\n",
       "             9: ['- employment benefits',\n",
       "              '- term assets',\n",
       "              'current products',\n",
       "              'successful products',\n",
       "              '-'],\n",
       "             17: ['- looking statement', '- looking statements'],\n",
       "             4: ['licensing requirements',\n",
       "              'international laws',\n",
       "              'claims laws',\n",
       "              'disposition- related charges',\n",
       "              'environmental laws'],\n",
       "             0: ['stock -',\n",
       "              'timely basis',\n",
       "              'corporate integrity agreement',\n",
       "              'operating results',\n",
       "              'boston scientific stock',\n",
       "              'clinical trials',\n",
       "              'clinical practice',\n",
       "              'customer preferences']})"
      ]
     },
     "execution_count": 8,
     "metadata": {},
     "output_type": "execute_result"
    }
   ],
   "source": [
    "next_keys.cluster()"
   ]
  },
  {
   "cell_type": "code",
   "execution_count": null,
   "metadata": {},
   "outputs": [],
   "source": []
  }
 ],
 "metadata": {
  "kernelspec": {
   "display_name": "Python 3",
   "language": "python",
   "name": "python3"
  },
  "language_info": {
   "codemirror_mode": {
    "name": "ipython",
    "version": 3
   },
   "file_extension": ".py",
   "mimetype": "text/x-python",
   "name": "python",
   "nbconvert_exporter": "python",
   "pygments_lexer": "ipython3",
   "version": "3.8.6"
  }
 },
 "nbformat": 4,
 "nbformat_minor": 4
}
