{
 "cells": [
  {
   "cell_type": "code",
   "execution_count": 1,
   "metadata": {},
   "outputs": [],
   "source": [
    "from risk_detection.analysis.keyword_extraction import get_keywords"
   ]
  },
  {
   "cell_type": "code",
   "execution_count": 21,
   "metadata": {},
   "outputs": [],
   "source": [
    "cik = 1750\n",
    "keywords = get_keywords(cik)"
   ]
  },
  {
   "cell_type": "code",
   "execution_count": 22,
   "metadata": {},
   "outputs": [],
   "source": [
    "keyword_cluster_label, keyword_clusters = keywords[0].cluster()"
   ]
  },
  {
   "cell_type": "code",
   "execution_count": 23,
   "metadata": {},
   "outputs": [
    {
     "name": "stdout",
     "output_type": "stream",
     "text": [
      "0: ['air canada', 'aviation industry', 'aviation product', 'delta air lines', 'engine parts', 'generation aircraft', 'mesaba airlines', 'new aircraft']\n",
      "1: ['high fuel costs', 'high fuel prices', 'material adverse effect', 'severe acute respiratory syndrome', 'significant capital expenditures', 'significant charge', 'significant decline']\n",
      "2: ['expected lease rates', 'government contracts', 'lease', 'lease aircraft', 'loan agreements', 'term agreement']\n",
      "3: ['activities', 'events', 'expected usage trends', 'expenditures', 'market values', 'outstanding obligations subject', 'present sales levels', 'sales trends', 'tangible net worth levels']\n",
      "4: ['credit risks', 'cross default', 'factors', 'regulatory requirements', 'regulatory standards', 'significant government regulation']\n",
      "5: ['environmental', 'environmental capital', 'environmental claims', 'environmental protection', 'environmental requirements', 'future environmental claims', 'future environmental requirements']\n",
      "6: ['aloha airlines', 'major usbased airlines', 'northwest airlines', 'united airlines', 'worldwide airline customers']\n",
      "7: ['future', 'future cash', 'future impairment', 'future periods', 'future terrorist']\n",
      "8: ['competitive industry', 'industry capacity', 'ongoing military logistic support activities', 'us military']\n",
      "9: ['capital', 'capital expenditures', 'capital resources', 'companies', 'resources', 'working capital']\n",
      "10: ['aircraft maintenance', 'airframe maintenance', 'competitive airframe maintenance market', 'maintenance', 'maintenance activities']\n",
      "11: ['additional', 'additional charge', 'additional impairment', 'additional risks', 'more additional periods']\n",
      "12: ['spare parts', 'spare parts support']\n",
      "13: ['financial', 'financial condition', 'financial covenants', 'financial obligations', 'financial plan']\n",
      "14: ['customers', 'government customers', 'potential customers']\n",
      "15: ['potential impairment', 'product liability', 'product liability claims']\n",
      "16: ['air travel', 'aircraft', 'aircraft manufacturers', 'aircraft parts manufacturers', 'aircraft service companies', 'aircraft spare parts', 'airline industry']\n",
      "17: ['adequate insurance coverage', 'liability insurance', 'similar communicable diseases']\n",
      "18: ['economic', 'overall economic condition', 'worldwide economic']\n"
     ]
    }
   ],
   "source": [
    "for cluster_num in sorted(keyword_clusters.keys()):\n",
    "    print(f'{cluster_num}: {keyword_clusters[cluster_num]}')"
   ]
  },
  {
   "cell_type": "code",
   "execution_count": 28,
   "metadata": {},
   "outputs": [
    {
     "data": {
      "text/plain": [
       "'Since September 11, 2001, the aviation industry has also been negatively affected by historically high fuel prices, the war on terrorism and the outbreak of Severe Acute Respiratory Syndrome, or SARS.'"
      ]
     },
     "execution_count": 28,
     "metadata": {},
     "output_type": "execute_result"
    }
   ],
   "source": [
    "keywords[0].neg_keywords['severe acute respiratory syndrome']['sentence'].iloc[0]"
   ]
  },
  {
   "cell_type": "code",
   "execution_count": null,
   "metadata": {},
   "outputs": [],
   "source": []
  }
 ],
 "metadata": {
  "kernelspec": {
   "display_name": "Python 3",
   "language": "python",
   "name": "python3"
  },
  "language_info": {
   "codemirror_mode": {
    "name": "ipython",
    "version": 3
   },
   "file_extension": ".py",
   "mimetype": "text/x-python",
   "name": "python",
   "nbconvert_exporter": "python",
   "pygments_lexer": "ipython3",
   "version": "3.8.6"
  }
 },
 "nbformat": 4,
 "nbformat_minor": 4
}
