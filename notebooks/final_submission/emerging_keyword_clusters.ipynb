{
 "cells": [
  {
   "cell_type": "code",
   "execution_count": 1,
   "metadata": {},
   "outputs": [],
   "source": [
    "from risk_detection.analysis.clustering import find_new_clusters"
   ]
  },
  {
   "cell_type": "markdown",
   "metadata": {},
   "source": [
    "### 1750 -> Aar Corp is primarily in the business of aircraft & parts."
   ]
  },
  {
   "cell_type": "code",
   "execution_count": 2,
   "metadata": {},
   "outputs": [
    {
     "name": "stdout",
     "output_type": "stream",
     "text": [
      "-------2007-------\n",
      "['activities', 'delta air lines', 'engine parts', 'operational', 'severe acute respiratory syndrome', 'troop deployment worldwide']\n",
      "['material adverse effect', 'significant', 'significant capital', 'significant decline', 'significant delivery delays', 'significant development costs']\n",
      "['a400 m cargo', 'new a400 m military transport aircraft']\n",
      "-------2008-------\n",
      "['future impairment charges', 'high oil prices', 'material adverse effect', 'product liability claims', 'prolonged work stoppage', 'severe acute respiratory syndrome', 'significant additional delivery delays', 'weak housing market']\n",
      "['new equipment', 'new products', 'new technological', 'significant capital', 'significant cost', 'significant development']\n",
      "['acceptable cost', 'aircraft operating decline', 'cost reduction initiatives', 'fleet reductions', 'second half fiscal']\n",
      "['general economic conditions', 'overall economic conditions']\n",
      "-------2009-------\n",
      "['assets', 'high oil prices', 'regulatory requirements', 'severe acute respiratory syndrome', 'significant government regulation', 'substantial liability insurance', 'tax impairment']\n",
      "['first calendar quarter', 'first quarter']\n",
      "-------2010-------\n",
      "['engine parts', 'expeditionary airlift service', 'export compliance program', 'lease', 'lease aircraft', 'us export control laws']\n",
      "['liability claims', 'petition trade accounts receivable', 'pre petition accounts receivable due', 'pre tax impairment', 'united states bankruptcy code']\n",
      "['additional impairment', 'assets', 'compliance', 'maintenance activities decline', 'material adverse effect', 'potential impairment', 'significant government regulation']\n",
      "['generation aircraft', 'international civil aviation', 'new a400 m military transport aircraft', 'new aircraft', 'worldwide airline customers']\n",
      "['foreign countries', 'foreign local business practices', 'us foreign corrupt practices act']\n",
      "['customers', 'government customer', 'government customers']\n",
      "-------2011-------\n",
      "['late calendar year', 'month term', 'requirements', 'standards']\n",
      "-------2012-------\n",
      "['defense budget', 'defense customers', 'defense customers sales', 'defense funding', 'defense work', 'us defense']\n",
      "['additional information', 'available information', 'requirements', 'year period']\n",
      "['electronic security', 'future terrorist attacks', 'security threats']\n",
      "-------2013-------\n",
      "['cargo loading systems', 'cargo systems unit', 'consolidated financial', 'consolidated sales']\n",
      "['a400 m cargo', 'a400 m contract', 'a400 m military transport aircraft']\n",
      "['american taxpayer relief act', 'taxpayer relief act']\n",
      "-------2014-------\n",
      "['defense federal acquisition regulations', 'defense spending', 'electronic security', 'national defense authorization act', 'security threats', 'us military personnel']\n",
      "['american taxpayer relief act', 'anti bribery laws', 'budget act', 'budget control act', 'debt', 'reduced defense spending', 'spending reduction', 'us budget deficit', 'us government funding']\n",
      "['future cash flows', 'future congressional', 'future demand', 'future mission deployment', 'future terrorist']\n",
      "['expeditionary airlift business', 'expeditionary airlift contracts', 'expeditionary airlift service', 'expeditionary airlift services']\n",
      "-------2015-------\n",
      "['intangible', 'standards', 'time', 'year period']\n"
     ]
    }
   ],
   "source": [
    "find_new_clusters(1750)"
   ]
  },
  {
   "cell_type": "markdown",
   "metadata": {},
   "source": [
    "### 3116 -> Akorn Inc is primarily in the business of pharmaceutical preparations. Akorn manufactures ophthalmology and dermatology products as well as injectables."
   ]
  },
  {
   "cell_type": "code",
   "execution_count": 3,
   "metadata": {},
   "outputs": [
    {
     "name": "stdout",
     "output_type": "stream",
     "text": [
      "-------2006-------\n",
      "['adverse financial', 'convertible securities', 'enforcement activities', 'government agencies', 'insurance', 'products obsolete', 'protection', 'requirements']\n",
      "['additional fda approvals', 'additional preferred stock', 'additional us patent applications', 'federal', 'packaging materials', 'post marketing', 'preferred stock', 'proprietary rights']\n",
      "['current products', 'new product approvals', 'new products', 'product recalls', 'products more', 'specific products']\n",
      "['capability', 'finished dosage form products', 'low cost finished dosage form products', 'radiation dtpa antidote products', 'sales revenue receivable sales revenue receivable', 'several controlled drug substances', 'several such product approvals']\n",
      "['additional financing', 'costs', 'funds', 'greater financial resources']\n",
      "-------2007-------\n",
      "['antidote products', 'cost finished dosage form products', 'decatur products', 'finished dosage form products', 'post marketing', 'radiation dtpa antidote products']\n",
      "['anti infective anda drug product', 'controlled drug substances', 'drug enforcement administration', 'drug products', 'exclusive drug development', 'internal abbreviated new drug application', 'new drug application', 'new drug applications', 'new pharmaceutical', 'new pharmaceutical products']\n",
      "['name brand companies', 'new product', 'new products', 'preferred stock']\n",
      "['anda product', 'anda product approvals', 'anda products']\n",
      "['annual product sales requirements', 'current products', 'product recalls', 'product sales', 'products more', 'sales revenue receivable sales revenue receivable', 'specific products', 'total gross sales']\n",
      "-------2008-------\n",
      "['finished dosage form products', 'health care products', 'low cost finished dosage form products', 'new product', 'new products', 'programs']\n",
      "['business', 'current business operations', 'general business strategy', 'general corporate', 'many other companies', 'parties', 'strategic business alliance infrastructure']\n",
      "['additional products', 'current products', 'product recall', 'product recalls', 'products more', 'recall products', 'several product', 'several product development agreements', 'specific products']\n",
      "['additional preferred stock', 'packaging materials', 'post marketing obligations', 'preferred stock', 'products obsolete', 'proprietary rights']\n",
      "['additional lyophilization customers', 'anda lyophilized products pipeline', 'lyophilized ic green product', 'lyophilized products', 'personnel']\n",
      "['adverse financial consequences', 'financial resources', 'greater financial resources', 'several financial', 'sufficient additional funding']\n",
      "['additional capital', 'additional fda', 'additional fda approvals', 'additional financing', 'additional future agreements']\n",
      "['action', 'actions']\n",
      "['financial accounting standards', 'financial markets', 'financial reporting', 'financial statements']\n",
      "-------2009-------\n",
      "['actions', 'activities', 'approvals', 'convertible securities', 'factors', 'insurance', 'requirements']\n",
      "['personnel', 'several product', 'sources', 'specific products', 'strategic', 'various distribution channels']\n",
      "-------2010-------\n",
      "['akorn products', 'convertible securities', 'finished dosage form products', 'fluctuations', 'health care products', 'insurance', 'low cost finished dosage form products', 'personnel', 'requirements']\n",
      "['additional drug companies', 'companies', 'large wholesale drug distributors', 'many other companies']\n",
      "-------2011-------\n",
      "['additional fda', 'additional fda approvals', 'additional growth', 'additional products', 'additional record keeping', 'additional regulations', 'additional shares', 'additional sources']\n",
      "-------2012-------\n",
      "['additional measures', 'additional record keeping', 'additional regulations', 'additional scientific substantiation', 'changes', 'compliance obligations', 'regulatory authorities', 'similar governmental regulations']\n",
      "['additional drug companies', 'business', 'companies', 'many other companies', 'strategic business alliance partners']\n",
      "['additional health policy', 'health care consulting investment company', 'health care fraud statute', 'health care products', 'health care related organizations', 'state healthcare programs']\n",
      "['factors', 'information', 'material', 'personnel', 'protection', 'remedial measures', 'sources']\n",
      "['adequate third party reimbursement', 'third parties', 'third party payers', 'third party sales']\n",
      "['agreements', 'parties', 'partners']\n",
      "-------2013-------\n",
      "['changes', 'laws', 'legislative changes', 'new laws']\n",
      "['agreements', 'compliance obligations', 'protection', 'reasons', 'regulatory authorities', 'remedial measures', 'similar governmental regulations', 'sources']\n",
      "-------2014-------\n",
      "['additional fda', 'additional fda approvals', 'additional growth', 'additional levels', 'additional material', 'additional personnel', 'additional products', 'fda issues additional warning letters']\n",
      "['actions', 'entities', 'factors', 'information', 'personnel', 'protection', 'remedial measures', 'sources']\n",
      "['additional financing', 'adverse financial consequences', 'debt financing', 'financial close process improvement', 'financial reporting process', 'financing', 'improper payments', 'non income tax', 'sufficient additional capital funding', 'third party payers']\n",
      "['generic', 'generic equivalent products', 'generic products', 'same generic products']\n"
     ]
    }
   ],
   "source": [
    "find_new_clusters(3116)"
   ]
  },
  {
   "cell_type": "markdown",
   "metadata": {},
   "source": [
    "### 2488 -> Advanced Micro Devices Inc is primarily in the business of semiconductors & related devices."
   ]
  },
  {
   "cell_type": "code",
   "execution_count": 4,
   "metadata": {},
   "outputs": [
    {
     "name": "stdout",
     "output_type": "stream",
     "text": [
      "-------2007-------\n",
      "['adequate product supply', 'advanced product', 'more product', 'product design', 'product development efforts', 'product development programs', 'product performance', 'product quality', 'short product', 'specific product', 'sufficient product supply', 'timely product']\n",
      "-------2008-------\n",
      "['adequate product supply', 'components decrease', 'end user products', 'product delivery delays', 'purposes', 'reduced product supply', 'timely product']\n",
      "['current credit market', 'current macro economic conditions', 'employment benefits', 'macro economic challenges', 'term financial outlook']\n",
      "-------2009-------\n",
      "['benefits', 'end manufacturing', 'end user pc demand', 'end user products', 'facilities', 'gf manufacturing facilities', 'party', 'pc industry', 'purposes']\n",
      "['computer platform components', 'first amd fusion product', 'information technology services', 'integrated graphics chipset market', 'semiconductor manufacturing yields', 'semiconductor market', 'semiconductor products', 'technology companies']\n",
      "-------2010-------\n",
      "['end manufacturing operations', 'end user products', 'time products', 'timely product']\n",
      "['applicable products', 'apu products', 'benefits', 'future apu products', 'party', 'purposes']\n",
      "['similar', 'similar products']\n",
      "-------2011-------\n",
      "['amd apu products', 'amd product', 'former semiconductor wafer manufacturing facilities', 'party', 'pc industry']\n",
      "['adequate product supply', 'experience product delivery delays', 'lower product manufacturing costs', 'reduced product supply', 'short product', 'timely product']\n",
      "-------2012-------\n",
      "['end manufacturing operations', 'end user pc products', 'end user products', 'time products', 'timely product']\n",
      "['companies', 'general corporate purposes', 'graphics products', 'party', 'pc industry']\n",
      "['foreign', 'short term foreign currency exposure']\n",
      "-------2013-------\n",
      "['business functions', 'companies', 'general corporate purposes', 'party', 'stock awards']\n",
      "['consumer pc market conditions', 'first quarter pc product sales', 'pc industry']\n",
      "['custom products', 'custom soc product', 'custom soc products']\n",
      "-------2014-------\n"
     ]
    }
   ],
   "source": [
    "find_new_clusters(2488)"
   ]
  },
  {
   "cell_type": "markdown",
   "metadata": {},
   "source": [
    "### 28917 -> Dillard's Inc is primarily in the business of retail-department stores. Dillard's Inc is an American fashion apparel, cosmetics and home furnishings retailer."
   ]
  },
  {
   "cell_type": "code",
   "execution_count": 5,
   "metadata": {},
   "outputs": [
    {
     "name": "stdout",
     "output_type": "stream",
     "text": [
      "-------2007-------\n",
      "['claims', 'factors', 'government', 'governmental responses thereto', 'statements', 'uniform standards', 'united states']\n",
      "['consumer confidence', 'consumer credit availability', 'consumer preferences']\n",
      "-------2008-------\n",
      "['existing operating covenant', 'government', 'governmental responses thereto', 'joint venture investments', 'operating results', 'operating synergies']\n",
      "['customer personal information', 'personal information']\n",
      "['advertising', 'advertising program', 'product advertising', 'vendor advertising allowances']\n",
      "['online operations', 'online sales operations']\n",
      "-------2009-------\n",
      "['current locations', 'events', 'international', 'liabilities', 'personal information', 'statements']\n",
      "['claims', 'contract losses', 'factors', 'lease term', 'of completion method']\n",
      "['charge rates', 'costs', 'payments', 'payroll costs']\n",
      "-------2010-------\n",
      "['contract losses', 'costs', 'credit losses', 'economic conditions', 'financial difficulties due', 'local economic conditions', 'merchandise losses']\n",
      "['credit', 'credit card income', 'finance charge rates', 'payments', 'payroll costs']\n",
      "-------2011-------\n",
      "-------2012-------\n",
      "-------2013-------\n",
      "['anchor', 'factors', 'macroeconomic', 'personal information', 'replacement costs', 'types']\n",
      "['changes', 'desirable new locations', 'greater financial resources', 'new information', 'new systems', 'significant additional resources', 'significant changes']\n",
      "['armed', 'competitive conditions', 'competitive health care benefits', 'fiscal fourth quarter results', 'laws', 'product safety laws', 'security']\n",
      "['reduced customer traffic', 'reduced discretionary consumer spending', 'reduced sales due']\n",
      "['cost', 'costs', 'impact operating results', 'labor costs', 'operating costs', 'wage rates']\n",
      "['appropriate merchandise', 'flow merchandise', 'retail merchandise business', 'retail products', 'retailers', 'seasonal merchandise', 'shipping merchandise']\n",
      "['fashion', 'private securities litigation reform', 'shipping']\n",
      "['area', 'benefits', 'fees', 'requirements', 'term']\n",
      "['healthcare', 'healthcare costs', 'healthcare coverage costs', 'healthcare laws', 'healthcare reform']\n",
      "['extreme weather conditions', 'unseasonable weather conditions', 'weather conditions']\n",
      "['customers', 'impact shopping mall', 'many other retailers', 'many shopping mall', 'online retail shopping', 'online sales operations', 'shopping mall traffic']\n",
      "['current store locations', 'new business', 'new shopping', 'new stores']\n",
      "['business', 'business environment', 'business operations', 'general business conditions']\n",
      "['future economic', 'future economic conditions', 'ongoing global economic instability', 'recent global economic', 'various economic conditions']\n",
      "['consumer credit', 'consumer needs', 'consumer protection laws', 'consumer spending', 'consumer spending patterns', 'consumer traffic', 'impact consumer', 'various consumer protection']\n",
      "['information security systems', 'information technology systems', 'new information technology systems']\n",
      "-------2014-------\n",
      "['fashion related factors', 'laws', 'requirements', 'term']\n",
      "-------2015-------\n",
      "['employee', 'employee health benefits', 'labor costs', 'wage rates']\n",
      "-------2016-------\n"
     ]
    }
   ],
   "source": [
    "find_new_clusters(28917)"
   ]
  },
  {
   "cell_type": "markdown",
   "metadata": {},
   "source": [
    "### 62996 -> Masco Corp /de/ is primarely in the business of heating equip, except elec & warm air & plumbing fixtures. Masco is a global leader in home improvement and building products."
   ]
  },
  {
   "cell_type": "code",
   "execution_count": 6,
   "metadata": {},
   "outputs": [
    {
     "name": "stdout",
     "output_type": "stream",
     "text": [
      "-------2007-------\n",
      "['brand names', 'brand reputation', 'channels', 'great britain pounds', 'key', 'north american results']\n",
      "['currency exchange rates', 'factors', 'material adverse effects', 'material adverse impact', 'regulations', 'risk factors', 'social developments impact', 'traditional markets affect']\n",
      "['competitive position', 'competitive pricing', 'cost suppliers', 'labor conditions', 'price increases', 'skilled personnel familiar', 'suppliers']\n",
      "['comprehensive enterprise resource planning', 'major distribution channels', 'major geographic markets', 'new', 'new geographic markets', 'new information', 'new international markets', 'new products', 'significant changes', 'significant new systems']\n",
      "['actions', 'additional information', 'consolidated financial', 'consolidated net sales', 'consolidated operating results', 'investments', 'rate securities']\n",
      "-------2008-------\n",
      "['actions', 'consolidated financial', 'consolidated operating results', 'factors', 'international operating results', 'regulations']\n",
      "['current economic', 'current economic downturn', 'economic', 'general economic conditions', 'prolonged economic downturn', 'relative economic conditions', 'significant downturn']\n",
      "['additional capital', 'additional financial', 'additional investments', 'debt ratings', 'investments', 'own borrowing costs', 'several financial']\n",
      "['credit markets', 'credit rating', 'credit ratings', 'credit risk']\n",
      "['adverse', 'adverse conditions', 'adverse economic conditions']\n",
      "-------2009-------\n",
      "['consolidated financial', 'consolidated net sales', 'consolidated operating results', 'credit markets', 'currency exchange rates', 'international operating results', 'investments', 'rate securities', 'retailers', 'trading market']\n",
      "['most part illiquid', 'most previous cyclical declines', 'non cash impairment charges', 'shorter life']\n",
      "-------2010-------\n",
      "['intangible assets', 'investments', 'large consumer investments', 'most part illiquid', 'significant liability', 'substantial costs', 'various claims', 'various financial']\n",
      "['additional cost savings initiatives', 'cost saving initiatives', 'cost savings', 'cost savings initiatives']\n",
      "['additional borrowing capacity', 'additional capital', 'additional impairment charges', 'additional information', 'additional investments', 'additional risks']\n",
      "['tax assets', 'tax costs', 'tax impairment charges', 'tax laws', 'tax matters']\n",
      "['additional non cash', 'future non cash charges']\n",
      "-------2011-------\n",
      "['home improvement', 'home improvement business', 'home improvement businesses', 'home improvement products', 'home improvement segments', 'home remodeling', 'new home construction', 'new home construction activity', 'new home construction activity levels']\n",
      "['intangible assets', 'personal injury claims', 'private equity fund', 'term performance', 'tort claims']\n",
      "['cost', 'cost savings', 'further cost savings', 'future cost savings changes']\n",
      "['net substantial costs', 'significant changes', 'significant costs', 'significant liability', 'significant number', 'significant portion', 'significant resources']\n",
      "-------2012-------\n",
      "['european cabinet businesses', 'north american cabinet businesses', 'private equity', 'private equity fund']\n",
      "['personal injury claims', 'services', 'third']\n",
      "['e commerce', 'e commerce strategies', 'successful e commerce']\n",
      "['foreign government regulations', 'intangible assets', 'regulations', 'tax impairment charges', 'tort claims']\n",
      "-------2013-------\n",
      "['consolidated financial', 'consolidated net sales', 'consolidated operating results', 'net operating loss', 'operating performance', 'operating results']\n",
      "['lower price point products', 'lower us effective tax', 'services', 'shorter life']\n",
      "['tax assets', 'tax impairment charges', 'tax laws', 'tax matters']\n",
      "['brand awareness', 'brand building', 'brand reputation', 'house brand merchandise']\n",
      "['consumer', 'consumer confidence levels']\n",
      "-------2014-------\n",
      "['actions', 'currencies', 'foreign government regulations', 'intangible', 'regulations', 'shorter life', 'tort claims', 'transaction', 'value']\n",
      "['future significant', 'information technology systems', 'new product', 'new services business', 'new strategic initiatives', 'strategic initiatives']\n",
      "-------2015-------\n",
      "['foreign currencies', 'foreign currency risks', 'foreign government regulations', 'foreign jurisdictions tax cross border transactions', 'foreign regulations', 'international economic conditions', 'international sales', 'international tax structure']\n",
      "['corruption', 'currencies', 'intellectual property infringement claims', 'litigation costs', 'regulations', 'related transactions', 'retailers', 'third', 'transaction']\n",
      "['future foreign acquisitions', 'future significant acquisitions', 'new products', 'new technology systems']\n",
      "['consumer claims', 'consumer confidence levels', 'consumer purchasing practices']\n"
     ]
    }
   ],
   "source": [
    "find_new_clusters(62996)"
   ]
  },
  {
   "cell_type": "markdown",
   "metadata": {},
   "source": [
    "### 277509 -> Federal Signal Corp /de/ is primarely in the business of motor vehicles & passenger car bodies. Federal Signal Corp designs and manufactures products and integrated solutions for municipal, governmental, industrial, and airport customers. It operates in the segments of Environmental Solutions Group and the Safety and Security Systems Group."
   ]
  },
  {
   "cell_type": "code",
   "execution_count": 7,
   "metadata": {},
   "outputs": [
    {
     "name": "stdout",
     "output_type": "stream",
     "text": [
      "-------2006-------\n",
      "['executive officers', 'normal course', 'qualified personnel', 'sales professionals', 'short term']\n",
      "['actual events', 'amounts outstanding', 'increasing portion', 'longer term changes', 'overall', 'overall united states']\n",
      "-------2007-------\n",
      "-------2008-------\n",
      "['competitive markets', 'customary', 'market disruptions', 'market products', 'markets', 'sophisticated customer requirements']\n",
      "['capital', 'capital expenditures', 'working capital needs', 'working capital requirements']\n",
      "['claims', 'products results', 'sales professionals', 'warranty claims']\n",
      "['continued availability', 'operating cash flow', 'operating strategy', 'sufficient capital available']\n",
      "['longer term changes', 'term', 'term borrowings costs', 'term obligations']\n",
      "-------2009-------\n",
      "['local political circumstances', 'political conditions', 'term changes', 'term strategy']\n",
      "['qualified personnel', 'safety requirements', 'sufficient capital', 'sufficient revenues']\n",
      "['costs', 'heavy governmental regulation', 'market capitalization declines', 'market disruptions', 'material adverse', 'significant costs', 'significant negative industry', 'substantial costs']\n",
      "['product liability', 'product liability claims', 'product liability costs', 'products results']\n",
      "['capital', 'capital needs', 'capital requirements', 'capitalization ratio', 'total capitalization ratio']\n",
      "-------2010-------\n",
      "['business', 'economic conditions', 'economic fluctuations', 'overall business', 'significant negative industry']\n",
      "['covenants', 'financial covenants', 'future covenant', 'intangible assets', 'interest coverage ratio covenant', 'interest coverage ratio covenant minimum', 'minimum ebitda covenant effective', 'restrictive debt covenants']\n",
      "['cost effective', 'cost effective basis new products', 'market', 'market capitalization', 'market conditions', 'market disruptions', 'market products', 'marketing new products']\n",
      "['capital needs', 'capital requirements', 'significant changes', 'significant charges', 'significant costs', 'substantial costs', 'us dollar costs']\n",
      "['employee termination costs', 'key employees', 'post retirement contractual benefits', 'qualified personnel']\n",
      "['actions', 'trade', 'transactions']\n",
      "['customary events', 'governmental customers', 'specific local market']\n",
      "['claims', 'conditions', 'contractual damage costs due', 'factors', 'future impairment charges', 'impairment charges', 'material costs', 'product liability costs', 'second step impairment']\n",
      "['credit agreements', 'credit facility pricing grid', 'credit markets', 'restricted payments', 'third party financing arrangements']\n",
      "['labor relations', 'labor relations act', 'local labor market conditions', 'new labor agreements', 'overall labor']\n",
      "-------2011-------\n",
      "['future income', 'future pension expenses', 'future tax', 'future taxable income', 'pension funding requirements', 'pension plan assets', 'pension plan liabilities']\n",
      "['assets', 'overall united states', 'specific annual amounts', 'total consolidated assets', 'united states government', 'us dollar costs']\n",
      "['credit markets', 'current collective bargaining agreement', 'party financing arrangements', 'qualified personnel', 'sufficient taxable income']\n",
      "['employee termination costs', 'intangible assets', 'liabilities', 'lived intangible assets', 'long lived assets', 'long term tax', 'post retirement contractual benefits']\n",
      "['actions', 'factors', 'key', 'trade', 'trade name impairment charges']\n",
      "['cost effective basis new products', 'cost effective manner', 'fair market value', 'marketing new products', 'new credit', 'new product', 'new products']\n",
      "-------2012-------\n",
      "['us dollar costs', 'us dollar revenues', 'us government', 'us governmental', 'us hourly']\n",
      "['assets', 'claims', 'credit markets', 'factors', 'intangible assets', 'material costs', 'non cash impairment charges', 'party financing arrangements', 'periods such charges', 'regulatory funding requirements', 'related undiscounted cash', 'restrictive debt covenants', 'sufficient taxable income']\n",
      "['20year carryforward period', 'overall us', 'specific annual amounts', 'year period']\n",
      "['key', 'new nols', 'us federal nols']\n",
      "['term strategy', 'term tax']\n",
      "-------2013-------\n",
      "['new nols', 'non', 'non cash impairment charges', 'us federal nols']\n",
      "-------2014-------\n",
      "['cost effective manner', 'disruptions', 'lower overall labor', 'material adverse impact', 'material costs', 'organized disruptions', 'regulatory funding requirements', 'restrictive debt covenants', 'restrictive specific annual amounts']\n",
      "['future tax', 'future taxable income', 'future us income tax', 'tax credit carryforwards', 'us federal net operating loss carryforwards']\n",
      "['intellectual property protection', 'intellectual property rights', 'proprietary intellectual property', 'strong intellectual property rights']\n",
      "-------2015-------\n",
      "['international customers', 'international economic', 'international sales', 'international trade regulations']\n"
     ]
    }
   ],
   "source": [
    "find_new_clusters(277509)"
   ]
  },
  {
   "cell_type": "code",
   "execution_count": null,
   "metadata": {},
   "outputs": [],
   "source": []
  }
 ],
 "metadata": {
  "kernelspec": {
   "display_name": "Python 3",
   "language": "python",
   "name": "python3"
  },
  "language_info": {
   "codemirror_mode": {
    "name": "ipython",
    "version": 3
   },
   "file_extension": ".py",
   "mimetype": "text/x-python",
   "name": "python",
   "nbconvert_exporter": "python",
   "pygments_lexer": "ipython3",
   "version": "3.8.6"
  }
 },
 "nbformat": 4,
 "nbformat_minor": 4
}
